{
  "nbformat": 4,
  "nbformat_minor": 0,
  "metadata": {
    "colab": {
      "name": "DeepLearning.ipynb",
      "provenance": [],
      "collapsed_sections": []
    },
    "kernelspec": {
      "name": "python3",
      "display_name": "Python 3"
    },
    "accelerator": "GPU"
  },
  "cells": [
    {
      "cell_type": "markdown",
      "metadata": {
        "id": "NfSiH9t3sakH",
        "colab_type": "text"
      },
      "source": [
        "# Reuters 뉴스 기사 토픽 분류 (다중 분류)"
      ]
    },
    {
      "cell_type": "markdown",
      "metadata": {
        "id": "DlXbtwpPtDLS",
        "colab_type": "text"
      },
      "source": [
        "데이터 로드 및 필요한 라이브러리 import"
      ]
    },
    {
      "cell_type": "code",
      "metadata": {
        "id": "T49vnNm_vP5_",
        "colab_type": "code",
        "colab": {
          "base_uri": "https://localhost:8080/",
          "height": 70
        },
        "outputId": "df2537e8-40d4-4f00-9f58-5bf14515cbad"
      },
      "source": [
        "from keras.datasets import reuters\n",
        "from keras.utils.np_utils import to_categorical\n",
        "from keras import models\n",
        "from keras import layers\n",
        "import numpy as np\n",
        "import matplotlib.pyplot as plt\n",
        "\n",
        "# train, test 데이터로 나눔 (단어: 10000개)\n",
        "(train_data, train_labels), (test_data, test_labels) = reuters.load_data(num_words=10000)"
      ],
      "execution_count": null,
      "outputs": [
        {
          "output_type": "stream",
          "text": [
            "Using TensorFlow backend.\n"
          ],
          "name": "stderr"
        },
        {
          "output_type": "stream",
          "text": [
            "Downloading data from https://s3.amazonaws.com/text-datasets/reuters.npz\n",
            "2113536/2110848 [==============================] - 0s 0us/step\n"
          ],
          "name": "stdout"
        }
      ]
    },
    {
      "cell_type": "markdown",
      "metadata": {
        "id": "pGhxVevxuIPb",
        "colab_type": "text"
      },
      "source": [
        "데이터셋 shape 확인"
      ]
    },
    {
      "cell_type": "code",
      "metadata": {
        "id": "gXLJIX0cBJdR",
        "colab_type": "code",
        "colab": {
          "base_uri": "https://localhost:8080/",
          "height": 70
        },
        "outputId": "ced5f6e5-ab0a-4ea6-962f-20668bd22ba1"
      },
      "source": [
        "print(train_data.shape)\n",
        "print(train_labels.shape)\n",
        "print(test_data.shape)"
      ],
      "execution_count": null,
      "outputs": [
        {
          "output_type": "stream",
          "text": [
            "(8982,)\n",
            "(8982,)\n",
            "(2246,)\n"
          ],
          "name": "stdout"
        }
      ]
    },
    {
      "cell_type": "markdown",
      "metadata": {
        "id": "AWpFE6nXtHqf",
        "colab_type": "text"
      },
      "source": [
        "train 데이터 확인"
      ]
    },
    {
      "cell_type": "code",
      "metadata": {
        "id": "LDW1fMz-BLuO",
        "colab_type": "code",
        "colab": {
          "base_uri": "https://localhost:8080/",
          "height": 35
        },
        "outputId": "c91cd550-3a4a-44b0-aae7-5e968fd5994d"
      },
      "source": [
        "train_data[0][:10]"
      ],
      "execution_count": null,
      "outputs": [
        {
          "output_type": "execute_result",
          "data": {
            "text/plain": [
              "[1, 2, 2, 8, 43, 10, 447, 5, 25, 207]"
            ]
          },
          "metadata": {
            "tags": []
          },
          "execution_count": 3
        }
      ]
    },
    {
      "cell_type": "markdown",
      "metadata": {
        "id": "tytSvi8txRey",
        "colab_type": "text"
      },
      "source": [
        "train 라벨 확인 (토픽 인덱스: 0~45)"
      ]
    },
    {
      "cell_type": "code",
      "metadata": {
        "id": "AQt7_TJxCNjf",
        "colab_type": "code",
        "colab": {
          "base_uri": "https://localhost:8080/",
          "height": 35
        },
        "outputId": "3da9c6cb-d8e4-4af9-81b9-28308cf5c84a"
      },
      "source": [
        "train_labels[0]"
      ],
      "execution_count": null,
      "outputs": [
        {
          "output_type": "execute_result",
          "data": {
            "text/plain": [
              "3"
            ]
          },
          "metadata": {
            "tags": []
          },
          "execution_count": 4
        }
      ]
    },
    {
      "cell_type": "markdown",
      "metadata": {
        "id": "GuVVX-Ruuj81",
        "colab_type": "text"
      },
      "source": [
        "Decoding (단어 -> 텍스트)"
      ]
    },
    {
      "cell_type": "code",
      "metadata": {
        "id": "JCO79aUalZqA",
        "colab_type": "code",
        "colab": {
          "base_uri": "https://localhost:8080/",
          "height": 55
        },
        "outputId": "42937e84-62aa-4c3e-b80f-02ac19a9e909"
      },
      "source": [
        "word_index = reuters.get_word_index()    # word_index: 단어를 정수 인덱스에 매핑하는 사전\n",
        "reverse_word_index = dict(\n",
        "    [(value, key) for (key, value) in word_index.items()])    # 정수 인덱스를 단어로 매핑하여 뒤집음\n",
        "decoded_news = ' '.join(    # 뉴스를 Decode함. 0, 1, 2는 \"패딩\", \"시퀀스 시작\"및 \"알 수 없음\"에 대한 index이므로 index는 3으로 offset됨\n",
        "    [reverse_word_index.get(i - 3, '?') for i in train_data[0]])\n",
        "\n",
        "print(decoded_news)"
      ],
      "execution_count": null,
      "outputs": [
        {
          "output_type": "stream",
          "text": [
            "? ? ? said as a result of its december acquisition of space co it expects earnings per share in 1987 of 1 15 to 1 30 dlrs per share up from 70 cts in 1986 the company said pretax net should rise to nine to 10 mln dlrs from six mln dlrs in 1986 and rental operation revenues to 19 to 22 mln dlrs from 12 5 mln dlrs it said cash flow per share this year should be 2 50 to three dlrs reuter 3\n"
          ],
          "name": "stdout"
        }
      ]
    },
    {
      "cell_type": "markdown",
      "metadata": {
        "id": "VmUvJmb7xfN3",
        "colab_type": "text"
      },
      "source": [
        "벡터화 (데이터를 벡터로 변환)"
      ]
    },
    {
      "cell_type": "code",
      "metadata": {
        "id": "oSCvvQS86f5A",
        "colab_type": "code",
        "colab": {}
      },
      "source": [
        "def vectorize_sequences(sequences, dimension=10000):\n",
        "    results = np.zeros((len(sequences), dimension))   # zero 행렬 생성\n",
        "    for i, sequence in enumerate(sequences):\n",
        "        results[i, sequence] = 1.    # 해당 뉴스 기사에 들어있는 단어의 index를 1.0으로 변경\n",
        "    return results"
      ],
      "execution_count": null,
      "outputs": []
    },
    {
      "cell_type": "code",
      "metadata": {
        "id": "lx8Y0wko6oll",
        "colab_type": "code",
        "colab": {
          "base_uri": "https://localhost:8080/",
          "height": 55
        },
        "outputId": "5901b798-11aa-4bca-c696-0084fdb4ac27"
      },
      "source": [
        "x_train = vectorize_sequences(train_data)    # training data 벡터화\n",
        "x_test = vectorize_sequences(test_data)      # test data 벡터화\n",
        "\n",
        "display(x_train.shape)\n",
        "display(x_test.shape)"
      ],
      "execution_count": null,
      "outputs": [
        {
          "output_type": "display_data",
          "data": {
            "text/plain": [
              "(8982, 10000)"
            ]
          },
          "metadata": {
            "tags": []
          }
        },
        {
          "output_type": "display_data",
          "data": {
            "text/plain": [
              "(2246, 10000)"
            ]
          },
          "metadata": {
            "tags": []
          }
        }
      ]
    },
    {
      "cell_type": "code",
      "metadata": {
        "id": "SvE31ai2mPxQ",
        "colab_type": "code",
        "colab": {
          "base_uri": "https://localhost:8080/",
          "height": 36
        },
        "outputId": "f58e3757-b143-4744-eedb-ba1a8996b1e7"
      },
      "source": [
        "x_train[0]"
      ],
      "execution_count": null,
      "outputs": [
        {
          "output_type": "execute_result",
          "data": {
            "text/plain": [
              "array([0., 1., 1., ..., 0., 0., 0.])"
            ]
          },
          "metadata": {
            "tags": []
          },
          "execution_count": 8
        }
      ]
    },
    {
      "cell_type": "markdown",
      "metadata": {
        "id": "a0c_5gr7yutX",
        "colab_type": "text"
      },
      "source": [
        "One-hot encoding"
      ]
    },
    {
      "cell_type": "code",
      "metadata": {
        "id": "s3T3O8RomJ4l",
        "colab_type": "code",
        "colab": {
          "base_uri": "https://localhost:8080/",
          "height": 55
        },
        "outputId": "7457ef80-a6f4-4868-9647-7da716158b36"
      },
      "source": [
        "one_hot_train_labels = to_categorical(train_labels)\n",
        "one_hot_test_labels = to_categorical(test_labels)\n",
        "\n",
        "display(one_hot_train_labels.shape)\n",
        "display(one_hot_test_labels.shape)"
      ],
      "execution_count": null,
      "outputs": [
        {
          "output_type": "display_data",
          "data": {
            "text/plain": [
              "(8982, 46)"
            ]
          },
          "metadata": {
            "tags": []
          }
        },
        {
          "output_type": "display_data",
          "data": {
            "text/plain": [
              "(2246, 46)"
            ]
          },
          "metadata": {
            "tags": []
          }
        }
      ]
    },
    {
      "cell_type": "code",
      "metadata": {
        "id": "uUbuPzbimVE3",
        "colab_type": "code",
        "colab": {
          "base_uri": "https://localhost:8080/",
          "height": 73
        },
        "outputId": "b3ad4d62-1fb0-4eb4-d57b-97216513b90f"
      },
      "source": [
        "one_hot_train_labels[0]"
      ],
      "execution_count": null,
      "outputs": [
        {
          "output_type": "execute_result",
          "data": {
            "text/plain": [
              "array([0., 0., 0., 1., 0., 0., 0., 0., 0., 0., 0., 0., 0., 0., 0., 0., 0.,\n",
              "       0., 0., 0., 0., 0., 0., 0., 0., 0., 0., 0., 0., 0., 0., 0., 0., 0.,\n",
              "       0., 0., 0., 0., 0., 0., 0., 0., 0., 0., 0., 0.], dtype=float32)"
            ]
          },
          "metadata": {
            "tags": []
          },
          "execution_count": 10
        }
      ]
    },
    {
      "cell_type": "code",
      "metadata": {
        "id": "hUK4DozzmenS",
        "colab_type": "code",
        "colab": {}
      },
      "source": [
        "y_train = np.asarray(train_labels).astype('float32')\n",
        "y_test = np.asarray(test_labels).astype('float32')"
      ],
      "execution_count": null,
      "outputs": []
    },
    {
      "cell_type": "markdown",
      "metadata": {
        "id": "5muO1gkKyrjo",
        "colab_type": "text"
      },
      "source": [
        "모델 생성"
      ]
    },
    {
      "cell_type": "code",
      "metadata": {
        "id": "3AGo4IOU60K5",
        "colab_type": "code",
        "colab": {
          "base_uri": "https://localhost:8080/",
          "height": 428
        },
        "outputId": "8774ded4-de28-4ac7-eab0-467d60d6fa2f"
      },
      "source": [
        "model = models.Sequential()\n",
        "model.add(layers.Dense(128, activation='relu', input_shape=(10000,)))    # relu 사용\n",
        "model.add(layers.Dropout(0.3))    # dropout을 0.3만큼 적용\n",
        "model.add(layers.Dense(64, activation='relu'))    # relu 사용\n",
        "model.add(layers.Dropout(0.3))    # dropout을 0.3만큼 적용\n",
        "model.add(layers.Dense(64, activation='relu'))    # relu 사용\n",
        "model.add(layers.Dropout(0.3))    # dropout을 0.3만큼 적용\n",
        "model.add(layers.Dense(46, activation='softmax'))    # 46개의 토픽 분류이기 때문에 출력이 46인 softmax 사용\n",
        "\n",
        "model.summary()"
      ],
      "execution_count": null,
      "outputs": [
        {
          "output_type": "stream",
          "text": [
            "Model: \"sequential_2\"\n",
            "_________________________________________________________________\n",
            "Layer (type)                 Output Shape              Param #   \n",
            "=================================================================\n",
            "dense_4 (Dense)              (None, 128)               1280128   \n",
            "_________________________________________________________________\n",
            "dropout_3 (Dropout)          (None, 128)               0         \n",
            "_________________________________________________________________\n",
            "dense_5 (Dense)              (None, 64)                8256      \n",
            "_________________________________________________________________\n",
            "dropout_4 (Dropout)          (None, 64)                0         \n",
            "_________________________________________________________________\n",
            "dense_6 (Dense)              (None, 64)                4160      \n",
            "_________________________________________________________________\n",
            "dropout_5 (Dropout)          (None, 64)                0         \n",
            "_________________________________________________________________\n",
            "dense_7 (Dense)              (None, 46)                2990      \n",
            "=================================================================\n",
            "Total params: 1,295,534\n",
            "Trainable params: 1,295,534\n",
            "Non-trainable params: 0\n",
            "_________________________________________________________________\n"
          ],
          "name": "stdout"
        }
      ]
    },
    {
      "cell_type": "markdown",
      "metadata": {
        "id": "J8bfC58d25rQ",
        "colab_type": "text"
      },
      "source": [
        "테스트, 검증 데이터 분리"
      ]
    },
    {
      "cell_type": "code",
      "metadata": {
        "id": "gHeHy8du60a0",
        "colab_type": "code",
        "colab": {}
      },
      "source": [
        "x_val = x_train[:1000]    # 검증 데이터를 1000개로 설정\n",
        "partial_x_train = x_train[1000:]\n",
        "\n",
        "y_val = one_hot_train_labels[:1000]    # 검증 데이터를 1000개로 설정\n",
        "partial_y_train = one_hot_train_labels[1000:]"
      ],
      "execution_count": null,
      "outputs": []
    },
    {
      "cell_type": "markdown",
      "metadata": {
        "id": "ktpxYQPSzDU0",
        "colab_type": "text"
      },
      "source": [
        "모델 컴파일"
      ]
    },
    {
      "cell_type": "code",
      "metadata": {
        "id": "B1Qnel_760S_",
        "colab_type": "code",
        "colab": {}
      },
      "source": [
        "model.compile(\n",
        "    optimizer='adam',    # adam optimizer 사용\n",
        "    loss='categorical_crossentropy',    # 다중 분류이기 때문에 categorical_crossentropy 사용\n",
        "    metrics=['acc'])"
      ],
      "execution_count": null,
      "outputs": []
    },
    {
      "cell_type": "markdown",
      "metadata": {
        "id": "0_E4Vwh3zObQ",
        "colab_type": "text"
      },
      "source": [
        "모델 학습"
      ]
    },
    {
      "cell_type": "code",
      "metadata": {
        "id": "1Y5LkBks88Me",
        "colab_type": "code",
        "colab": {
          "base_uri": "https://localhost:8080/",
          "height": 429
        },
        "outputId": "0ca39ace-0908-4f31-e596-20c02e909443"
      },
      "source": [
        "history = model.fit(\n",
        "    partial_x_train, \n",
        "    partial_y_train,\n",
        "    epochs=10,    # 10개의 에폭만큼 수행\n",
        "    batch_size=512,    # batch_size를 512로 설정\n",
        "    validation_data=(x_val, y_val))"
      ],
      "execution_count": null,
      "outputs": [
        {
          "output_type": "stream",
          "text": [
            "Train on 7982 samples, validate on 1000 samples\n",
            "Epoch 1/10\n",
            "7982/7982 [==============================] - 1s 81us/step - loss: 3.4312 - acc: 0.2600 - val_loss: 2.5486 - val_acc: 0.5330\n",
            "Epoch 2/10\n",
            "7982/7982 [==============================] - 0s 53us/step - loss: 2.2509 - acc: 0.5163 - val_loss: 1.6744 - val_acc: 0.5930\n",
            "Epoch 3/10\n",
            "7982/7982 [==============================] - 0s 53us/step - loss: 1.6896 - acc: 0.6019 - val_loss: 1.4506 - val_acc: 0.6760\n",
            "Epoch 4/10\n",
            "7982/7982 [==============================] - 0s 54us/step - loss: 1.4264 - acc: 0.6601 - val_loss: 1.3007 - val_acc: 0.6990\n",
            "Epoch 5/10\n",
            "7982/7982 [==============================] - 0s 54us/step - loss: 1.2377 - acc: 0.7115 - val_loss: 1.1942 - val_acc: 0.7270\n",
            "Epoch 6/10\n",
            "7982/7982 [==============================] - 0s 53us/step - loss: 1.1006 - acc: 0.7400 - val_loss: 1.1194 - val_acc: 0.7540\n",
            "Epoch 7/10\n",
            "7982/7982 [==============================] - 0s 52us/step - loss: 0.9668 - acc: 0.7643 - val_loss: 1.0730 - val_acc: 0.7730\n",
            "Epoch 8/10\n",
            "7982/7982 [==============================] - 0s 54us/step - loss: 0.8678 - acc: 0.7917 - val_loss: 1.0479 - val_acc: 0.7760\n",
            "Epoch 9/10\n",
            "7982/7982 [==============================] - 0s 52us/step - loss: 0.7811 - acc: 0.8051 - val_loss: 1.0364 - val_acc: 0.7820\n",
            "Epoch 10/10\n",
            "7982/7982 [==============================] - 0s 52us/step - loss: 0.7126 - acc: 0.8188 - val_loss: 1.0286 - val_acc: 0.7830\n"
          ],
          "name": "stdout"
        }
      ]
    },
    {
      "cell_type": "markdown",
      "metadata": {
        "id": "jIroLbc4zQS6",
        "colab_type": "text"
      },
      "source": [
        "모델 평가"
      ]
    },
    {
      "cell_type": "code",
      "metadata": {
        "id": "6meMjPUB88ZI",
        "colab_type": "code",
        "colab": {
          "base_uri": "https://localhost:8080/",
          "height": 55
        },
        "outputId": "5b20ad76-ad30-436c-8bc8-58a0e23fd8c1"
      },
      "source": [
        "model.evaluate(x_test, one_hot_test_labels)"
      ],
      "execution_count": null,
      "outputs": [
        {
          "output_type": "stream",
          "text": [
            "2246/2246 [==============================] - 0s 110us/step\n"
          ],
          "name": "stdout"
        },
        {
          "output_type": "execute_result",
          "data": {
            "text/plain": [
              "[1.1515329279012163, 0.7591273188591003]"
            ]
          },
          "metadata": {
            "tags": []
          },
          "execution_count": 26
        }
      ]
    },
    {
      "cell_type": "markdown",
      "metadata": {
        "id": "kzMGYgCezSXL",
        "colab_type": "text"
      },
      "source": [
        "훈련 결과 시각화"
      ]
    },
    {
      "cell_type": "code",
      "metadata": {
        "id": "IB3OAi7n88g4",
        "colab_type": "code",
        "colab": {
          "base_uri": "https://localhost:8080/",
          "height": 314
        },
        "outputId": "4bcb4c63-8412-4538-e5d2-ca8d1a1b9f52"
      },
      "source": [
        "acc = history.history['acc']\n",
        "val_acc = history.history['val_acc']\n",
        "loss = history.history['loss']\n",
        "\n",
        "epochs = range(1, len(loss) + 1)\n",
        "\n",
        "plt.plot(epochs, acc, 'bo', label='Training acc')\n",
        "plt.plot(epochs, val_acc, 'b', label='Validation acc')\n",
        "\n",
        "plt.title('Training & Validation loss')\n",
        "plt.xlabel('Epochs')\n",
        "plt.ylabel('Accuracy')\n",
        "plt.legend()"
      ],
      "execution_count": null,
      "outputs": [
        {
          "output_type": "execute_result",
          "data": {
            "text/plain": [
              "<matplotlib.legend.Legend at 0x7fbf9bb56a58>"
            ]
          },
          "metadata": {
            "tags": []
          },
          "execution_count": 27
        },
        {
          "output_type": "display_data",
          "data": {
            "image/png": "[encoded data removed]",
            "text/plain": [
              "<Figure size 432x288 with 1 Axes>"
            ]
          },
          "metadata": {
            "tags": [],
            "needs_background": "light"
          }
        }
      ]
    },
    {
      "cell_type": "code",
      "metadata": {
        "id": "Ll8aQn9K-Hc2",
        "colab_type": "code",
        "colab": {
          "base_uri": "https://localhost:8080/",
          "height": 314
        },
        "outputId": "533814fa-462a-4384-f83a-8b19a906c817"
      },
      "source": [
        "loss = history.history['loss']\n",
        "val_loss = history.history['val_loss']\n",
        "\n",
        "epochs = range(1, len(loss) + 1)\n",
        "\n",
        "plt.plot(epochs, loss, 'bo', label='Training loss')\n",
        "plt.plot(epochs, val_loss, 'b', label='Validation loss')\n",
        "\n",
        "plt.title('Training & Validation loss')\n",
        "plt.xlabel('Epochs')\n",
        "plt.ylabel('Loss')\n",
        "plt.legend()"
      ],
      "execution_count": null,
      "outputs": [
        {
          "output_type": "execute_result",
          "data": {
            "text/plain": [
              "<matplotlib.legend.Legend at 0x7fbf9a9dbc50>"
            ]
          },
          "metadata": {
            "tags": []
          },
          "execution_count": 28
        },
        {
          "output_type": "display_data",
          "data": {
            "image/png": "[encoded data removed]",
            "text/plain": [
              "<Figure size 432x288 with 1 Axes>"
            ]
          },
          "metadata": {
            "tags": [],
            "needs_background": "light"
          }
        }
      ]
    },
    {
      "cell_type": "markdown",
      "metadata": {
        "id": "42excyuWzYzb",
        "colab_type": "text"
      },
      "source": [
        "새로운 데이터 예측"
      ]
    },
    {
      "cell_type": "code",
      "metadata": {
        "id": "afxs6sP8D6Tr",
        "colab_type": "code",
        "colab": {
          "base_uri": "https://localhost:8080/",
          "height": 36
        },
        "outputId": "16b0377b-9f45-479b-f84c-c106c18bd43f"
      },
      "source": [
        "predictions = model.predict(x_test)\n",
        "predictions.shape"
      ],
      "execution_count": null,
      "outputs": [
        {
          "output_type": "execute_result",
          "data": {
            "text/plain": [
              "(2246, 46)"
            ]
          },
          "metadata": {
            "tags": []
          },
          "execution_count": 19
        }
      ]
    },
    {
      "cell_type": "code",
      "metadata": {
        "id": "CqwRCkyoD6kV",
        "colab_type": "code",
        "colab": {
          "base_uri": "https://localhost:8080/",
          "height": 36
        },
        "outputId": "49a27d9a-9907-46bc-a9ee-b2d83e7d09ff"
      },
      "source": [
        "# predictions[7]의 몇 번째 index가 가장 큰 값\n",
        "# (46개의 뉴스 토픽 중 그 토픽에 해당하는 확률)을 가지는지\n",
        "np.argmax(predictions[7])"
      ],
      "execution_count": null,
      "outputs": [
        {
          "output_type": "execute_result",
          "data": {
            "text/plain": [
              "3"
            ]
          },
          "metadata": {
            "tags": []
          },
          "execution_count": 20
        }
      ]
    },
    {
      "cell_type": "code",
      "metadata": {
        "id": "bdoBC5Ukg0El",
        "colab_type": "code",
        "colab": {
          "base_uri": "https://localhost:8080/",
          "height": 36
        },
        "outputId": "a4e4c229-cf5e-4ae7-c077-e179a9d92364"
      },
      "source": [
        "# 가장 큰 값을 가진 3번째 index의 확률 출력\n",
        "predictions[7][3]"
      ],
      "execution_count": null,
      "outputs": [
        {
          "output_type": "execute_result",
          "data": {
            "text/plain": [
              "0.99945027"
            ]
          },
          "metadata": {
            "tags": []
          },
          "execution_count": 21
        }
      ]
    }
  ]
}