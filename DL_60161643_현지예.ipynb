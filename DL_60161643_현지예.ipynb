{
  "nbformat": 4,
  "nbformat_minor": 0,
  "metadata": {
    "colab": {
      "name": "DeepLearning.ipynb",
      "provenance": [],
      "collapsed_sections": []
    },
    "kernelspec": {
      "name": "python3",
      "display_name": "Python 3"
    },
    "accelerator": "GPU"
  },
  "cells": [
    {
      "cell_type": "markdown",
      "metadata": {
        "id": "NfSiH9t3sakH",
        "colab_type": "text"
      },
      "source": [
        "# Reuters 뉴스 기사 토픽 분류 (다중 분류)"
      ]
    },
    {
      "cell_type": "markdown",
      "metadata": {
        "id": "DlXbtwpPtDLS",
        "colab_type": "text"
      },
      "source": [
        "데이터 로드 및 필요한 라이브러리 import"
      ]
    },
    {
      "cell_type": "code",
      "metadata": {
        "id": "T49vnNm_vP5_",
        "colab_type": "code",
        "colab": {
          "base_uri": "https://localhost:8080/",
          "height": 35
        },
        "outputId": "46e6535d-68ad-4d70-e525-48f183848b04"
      },
      "source": [
        "from keras.datasets import reuters\n",
        "from keras.utils.np_utils import to_categorical\n",
        "from keras import models\n",
        "from keras import layers\n",
        "import numpy as np\n",
        "import matplotlib.pyplot as plt\n",
        "\n",
        "# train, test 데이터로 나눔 (단어: 10000개)\n",
        "(train_data, train_labels), (test_data, test_labels) = reuters.load_data(num_words=10000)"
      ],
      "execution_count": 1,
      "outputs": [
        {
          "output_type": "stream",
          "text": [
            "Using TensorFlow backend.\n"
          ],
          "name": "stderr"
        }
      ]
    },
    {
      "cell_type": "markdown",
      "metadata": {
        "id": "pGhxVevxuIPb",
        "colab_type": "text"
      },
      "source": [
        "데이터셋 shape 확인"
      ]
    },
    {
      "cell_type": "code",
      "metadata": {
        "id": "gXLJIX0cBJdR",
        "colab_type": "code",
        "colab": {
          "base_uri": "https://localhost:8080/",
          "height": 70
        },
        "outputId": "0943ef5b-cc82-4c64-c3f6-c2a3cf3cff60"
      },
      "source": [
        "print(train_data.shape)\n",
        "print(train_labels.shape)\n",
        "print(test_data.shape)"
      ],
      "execution_count": 2,
      "outputs": [
        {
          "output_type": "stream",
          "text": [
            "(8982,)\n",
            "(8982,)\n",
            "(2246,)\n"
          ],
          "name": "stdout"
        }
      ]
    },
    {
      "cell_type": "markdown",
      "metadata": {
        "id": "AWpFE6nXtHqf",
        "colab_type": "text"
      },
      "source": [
        "train 데이터 확인"
      ]
    },
    {
      "cell_type": "code",
      "metadata": {
        "id": "LDW1fMz-BLuO",
        "colab_type": "code",
        "colab": {
          "base_uri": "https://localhost:8080/",
          "height": 35
        },
        "outputId": "47ad80f5-8f92-466c-c7f0-5a2021647e0f"
      },
      "source": [
        "train_data[0][:10]"
      ],
      "execution_count": 3,
      "outputs": [
        {
          "output_type": "execute_result",
          "data": {
            "text/plain": [
              "[1, 2, 2, 8, 43, 10, 447, 5, 25, 207]"
            ]
          },
          "metadata": {
            "tags": []
          },
          "execution_count": 3
        }
      ]
    },
    {
      "cell_type": "markdown",
      "metadata": {
        "id": "tytSvi8txRey",
        "colab_type": "text"
      },
      "source": [
        "train 라벨 확인 (토픽 인덱스: 0~45)"
      ]
    },
    {
      "cell_type": "code",
      "metadata": {
        "id": "AQt7_TJxCNjf",
        "colab_type": "code",
        "colab": {
          "base_uri": "https://localhost:8080/",
          "height": 35
        },
        "outputId": "ed08cbb7-bc44-4fea-86a6-93b96dd26eba"
      },
      "source": [
        "train_labels[0]"
      ],
      "execution_count": 4,
      "outputs": [
        {
          "output_type": "execute_result",
          "data": {
            "text/plain": [
              "3"
            ]
          },
          "metadata": {
            "tags": []
          },
          "execution_count": 4
        }
      ]
    },
    {
      "cell_type": "markdown",
      "metadata": {
        "id": "GuVVX-Ruuj81",
        "colab_type": "text"
      },
      "source": [
        "Decoding (단어 -> 텍스트)"
      ]
    },
    {
      "cell_type": "code",
      "metadata": {
        "id": "JCO79aUalZqA",
        "colab_type": "code",
        "colab": {
          "base_uri": "https://localhost:8080/",
          "height": 55
        },
        "outputId": "d04b0a11-a229-40a4-8d8c-6250d966b508"
      },
      "source": [
        "word_index = reuters.get_word_index()    # word_index: 단어를 정수 인덱스에 매핑하는 사전\n",
        "reverse_word_index = dict(\n",
        "    [(value, key) for (key, value) in word_index.items()])    # 정수 인덱스를 단어로 매핑하여 뒤집음\n",
        "decoded_news = ' '.join(    # 뉴스를 Decode함. 0, 1, 2는 \"패딩\", \"시퀀스 시작\"및 \"알 수 없음\"에 대한 index이므로 index는 3으로 offset됨\n",
        "    [reverse_word_index.get(i - 3, '?') for i in train_data[0]])\n",
        "\n",
        "print(decoded_news)"
      ],
      "execution_count": 5,
      "outputs": [
        {
          "output_type": "stream",
          "text": [
            "? ? ? said as a result of its december acquisition of space co it expects earnings per share in 1987 of 1 15 to 1 30 dlrs per share up from 70 cts in 1986 the company said pretax net should rise to nine to 10 mln dlrs from six mln dlrs in 1986 and rental operation revenues to 19 to 22 mln dlrs from 12 5 mln dlrs it said cash flow per share this year should be 2 50 to three dlrs reuter 3\n"
          ],
          "name": "stdout"
        }
      ]
    },
    {
      "cell_type": "markdown",
      "metadata": {
        "id": "VmUvJmb7xfN3",
        "colab_type": "text"
      },
      "source": [
        "벡터화 (데이터를 벡터로 변환)"
      ]
    },
    {
      "cell_type": "code",
      "metadata": {
        "id": "oSCvvQS86f5A",
        "colab_type": "code",
        "colab": {}
      },
      "source": [
        "def vectorize_sequences(sequences, dimension=10000):\n",
        "    results = np.zeros((len(sequences), dimension))   # zero 행렬 생성\n",
        "    for i, sequence in enumerate(sequences):\n",
        "        results[i, sequence] = 1.    # 해당 뉴스 기사에 들어있는 단어의 index를 1.0으로 변경\n",
        "    return results"
      ],
      "execution_count": 6,
      "outputs": []
    },
    {
      "cell_type": "code",
      "metadata": {
        "id": "lx8Y0wko6oll",
        "colab_type": "code",
        "colab": {
          "base_uri": "https://localhost:8080/",
          "height": 52
        },
        "outputId": "898ad1bf-70c1-48bd-a156-593b824a77ad"
      },
      "source": [
        "x_train = vectorize_sequences(train_data)    # training data 벡터화\n",
        "x_test = vectorize_sequences(test_data)      # test data 벡터화\n",
        "\n",
        "display(x_train.shape)\n",
        "display(x_test.shape)"
      ],
      "execution_count": 7,
      "outputs": [
        {
          "output_type": "display_data",
          "data": {
            "text/plain": [
              "(8982, 10000)"
            ]
          },
          "metadata": {
            "tags": []
          }
        },
        {
          "output_type": "display_data",
          "data": {
            "text/plain": [
              "(2246, 10000)"
            ]
          },
          "metadata": {
            "tags": []
          }
        }
      ]
    },
    {
      "cell_type": "code",
      "metadata": {
        "id": "SvE31ai2mPxQ",
        "colab_type": "code",
        "colab": {
          "base_uri": "https://localhost:8080/",
          "height": 35
        },
        "outputId": "329312fc-a7a7-453d-de1c-6eb905526195"
      },
      "source": [
        "x_train[0]"
      ],
      "execution_count": 8,
      "outputs": [
        {
          "output_type": "execute_result",
          "data": {
            "text/plain": [
              "array([0., 1., 1., ..., 0., 0., 0.])"
            ]
          },
          "metadata": {
            "tags": []
          },
          "execution_count": 8
        }
      ]
    },
    {
      "cell_type": "markdown",
      "metadata": {
        "id": "a0c_5gr7yutX",
        "colab_type": "text"
      },
      "source": [
        "One-hot encoding"
      ]
    },
    {
      "cell_type": "code",
      "metadata": {
        "id": "s3T3O8RomJ4l",
        "colab_type": "code",
        "colab": {
          "base_uri": "https://localhost:8080/",
          "height": 52
        },
        "outputId": "69243aaa-711b-458c-f0eb-9037926d8b66"
      },
      "source": [
        "one_hot_train_labels = to_categorical(train_labels)\n",
        "one_hot_test_labels = to_categorical(test_labels)\n",
        "\n",
        "display(one_hot_train_labels.shape)\n",
        "display(one_hot_test_labels.shape)"
      ],
      "execution_count": 9,
      "outputs": [
        {
          "output_type": "display_data",
          "data": {
            "text/plain": [
              "(8982, 46)"
            ]
          },
          "metadata": {
            "tags": []
          }
        },
        {
          "output_type": "display_data",
          "data": {
            "text/plain": [
              "(2246, 46)"
            ]
          },
          "metadata": {
            "tags": []
          }
        }
      ]
    },
    {
      "cell_type": "code",
      "metadata": {
        "id": "uUbuPzbimVE3",
        "colab_type": "code",
        "colab": {
          "base_uri": "https://localhost:8080/",
          "height": 70
        },
        "outputId": "21c9d4aa-6ecb-4256-c860-6eefe4ff9e03"
      },
      "source": [
        "one_hot_train_labels[0]"
      ],
      "execution_count": 10,
      "outputs": [
        {
          "output_type": "execute_result",
          "data": {
            "text/plain": [
              "array([0., 0., 0., 1., 0., 0., 0., 0., 0., 0., 0., 0., 0., 0., 0., 0., 0.,\n",
              "       0., 0., 0., 0., 0., 0., 0., 0., 0., 0., 0., 0., 0., 0., 0., 0., 0.,\n",
              "       0., 0., 0., 0., 0., 0., 0., 0., 0., 0., 0., 0.], dtype=float32)"
            ]
          },
          "metadata": {
            "tags": []
          },
          "execution_count": 10
        }
      ]
    },
    {
      "cell_type": "code",
      "metadata": {
        "id": "hUK4DozzmenS",
        "colab_type": "code",
        "colab": {}
      },
      "source": [
        "y_train = np.asarray(train_labels).astype('float32')\n",
        "y_test = np.asarray(test_labels).astype('float32')"
      ],
      "execution_count": 11,
      "outputs": []
    },
    {
      "cell_type": "markdown",
      "metadata": {
        "id": "5muO1gkKyrjo",
        "colab_type": "text"
      },
      "source": [
        "모델 생성"
      ]
    },
    {
      "cell_type": "code",
      "metadata": {
        "id": "3AGo4IOU60K5",
        "colab_type": "code",
        "colab": {
          "base_uri": "https://localhost:8080/",
          "height": 428
        },
        "outputId": "5d811757-d4b9-4880-c4f6-ff3c91e3f641"
      },
      "source": [
        "model = models.Sequential()\n",
        "model.add(layers.Dense(128, activation='relu', input_shape=(10000,)))    # relu 사용\n",
        "model.add(layers.Dropout(0.3))    # dropout을 0.3만큼 적용\n",
        "model.add(layers.Dense(64, activation='relu'))    # relu 사용\n",
        "model.add(layers.Dropout(0.3))    # dropout을 0.3만큼 적용\n",
        "model.add(layers.Dense(64, activation='relu'))    # relu 사용\n",
        "model.add(layers.Dropout(0.3))    # dropout을 0.3만큼 적용\n",
        "model.add(layers.Dense(46, activation='softmax'))    # 46개의 토픽 분류이기 때문에 출력이 46인 softmax 사용\n",
        "\n",
        "model.summary()"
      ],
      "execution_count": 12,
      "outputs": [
        {
          "output_type": "stream",
          "text": [
            "Model: \"sequential_1\"\n",
            "_________________________________________________________________\n",
            "Layer (type)                 Output Shape              Param #   \n",
            "=================================================================\n",
            "dense_1 (Dense)              (None, 128)               1280128   \n",
            "_________________________________________________________________\n",
            "dropout_1 (Dropout)          (None, 128)               0         \n",
            "_________________________________________________________________\n",
            "dense_2 (Dense)              (None, 64)                8256      \n",
            "_________________________________________________________________\n",
            "dropout_2 (Dropout)          (None, 64)                0         \n",
            "_________________________________________________________________\n",
            "dense_3 (Dense)              (None, 64)                4160      \n",
            "_________________________________________________________________\n",
            "dropout_3 (Dropout)          (None, 64)                0         \n",
            "_________________________________________________________________\n",
            "dense_4 (Dense)              (None, 46)                2990      \n",
            "=================================================================\n",
            "Total params: 1,295,534\n",
            "Trainable params: 1,295,534\n",
            "Non-trainable params: 0\n",
            "_________________________________________________________________\n"
          ],
          "name": "stdout"
        }
      ]
    },
    {
      "cell_type": "markdown",
      "metadata": {
        "id": "J8bfC58d25rQ",
        "colab_type": "text"
      },
      "source": [
        "테스트, 검증 데이터 분리"
      ]
    },
    {
      "cell_type": "code",
      "metadata": {
        "id": "gHeHy8du60a0",
        "colab_type": "code",
        "colab": {}
      },
      "source": [
        "x_val = x_train[:1000]    # 검증 데이터를 1000개로 설정\n",
        "partial_x_train = x_train[1000:]\n",
        "\n",
        "y_val = one_hot_train_labels[:1000]    # 검증 데이터를 1000개로 설정\n",
        "partial_y_train = one_hot_train_labels[1000:]"
      ],
      "execution_count": 13,
      "outputs": []
    },
    {
      "cell_type": "markdown",
      "metadata": {
        "id": "ktpxYQPSzDU0",
        "colab_type": "text"
      },
      "source": [
        "모델 컴파일"
      ]
    },
    {
      "cell_type": "code",
      "metadata": {
        "id": "B1Qnel_760S_",
        "colab_type": "code",
        "colab": {}
      },
      "source": [
        "model.compile(\n",
        "    optimizer='adam',    # adam optimizer 사용\n",
        "    loss='categorical_crossentropy',    # 다중 분류이기 때문에 categorical_crossentropy 사용\n",
        "    metrics=['acc'])"
      ],
      "execution_count": 14,
      "outputs": []
    },
    {
      "cell_type": "markdown",
      "metadata": {
        "id": "0_E4Vwh3zObQ",
        "colab_type": "text"
      },
      "source": [
        "모델 학습"
      ]
    },
    {
      "cell_type": "code",
      "metadata": {
        "id": "1Y5LkBks88Me",
        "colab_type": "code",
        "colab": {
          "base_uri": "https://localhost:8080/",
          "height": 409
        },
        "outputId": "ca41e7f0-4067-41f5-e15f-e0cac5713ccf"
      },
      "source": [
        "history = model.fit(\n",
        "    partial_x_train, \n",
        "    partial_y_train,\n",
        "    epochs=10,    # 10개의 에폭만큼 수행\n",
        "    batch_size=512,    # batch_size를 512로 설정\n",
        "    validation_data=(x_val, y_val))"
      ],
      "execution_count": 15,
      "outputs": [
        {
          "output_type": "stream",
          "text": [
            "Train on 7982 samples, validate on 1000 samples\n",
            "Epoch 1/10\n",
            "7982/7982 [==============================] - 1s 122us/step - loss: 3.4556 - acc: 0.2528 - val_loss: 2.6611 - val_acc: 0.5160\n",
            "Epoch 2/10\n",
            "7982/7982 [==============================] - 1s 70us/step - loss: 2.2659 - acc: 0.5014 - val_loss: 1.6328 - val_acc: 0.6120\n",
            "Epoch 3/10\n",
            "7982/7982 [==============================] - 1s 71us/step - loss: 1.6534 - acc: 0.6097 - val_loss: 1.4197 - val_acc: 0.6810\n",
            "Epoch 4/10\n",
            "7982/7982 [==============================] - 1s 71us/step - loss: 1.3902 - acc: 0.6731 - val_loss: 1.2649 - val_acc: 0.7090\n",
            "Epoch 5/10\n",
            "7982/7982 [==============================] - 1s 70us/step - loss: 1.2349 - acc: 0.7077 - val_loss: 1.1827 - val_acc: 0.7250\n",
            "Epoch 6/10\n",
            "7982/7982 [==============================] - 1s 69us/step - loss: 1.0878 - acc: 0.7354 - val_loss: 1.1172 - val_acc: 0.7500\n",
            "Epoch 7/10\n",
            "7982/7982 [==============================] - 1s 69us/step - loss: 0.9775 - acc: 0.7568 - val_loss: 1.0836 - val_acc: 0.7650\n",
            "Epoch 8/10\n",
            "7982/7982 [==============================] - 1s 69us/step - loss: 0.8855 - acc: 0.7835 - val_loss: 1.0754 - val_acc: 0.7690\n",
            "Epoch 9/10\n",
            "7982/7982 [==============================] - 1s 68us/step - loss: 0.7966 - acc: 0.7974 - val_loss: 1.0429 - val_acc: 0.7780\n",
            "Epoch 10/10\n",
            "7982/7982 [==============================] - 1s 69us/step - loss: 0.7247 - acc: 0.8188 - val_loss: 1.0468 - val_acc: 0.7840\n"
          ],
          "name": "stdout"
        }
      ]
    },
    {
      "cell_type": "markdown",
      "metadata": {
        "id": "jIroLbc4zQS6",
        "colab_type": "text"
      },
      "source": [
        "모델 평가"
      ]
    },
    {
      "cell_type": "code",
      "metadata": {
        "id": "6meMjPUB88ZI",
        "colab_type": "code",
        "colab": {
          "base_uri": "https://localhost:8080/",
          "height": 55
        },
        "outputId": "5637a933-4c74-4c43-9386-5c5ada7b83da"
      },
      "source": [
        "model.evaluate(x_test, one_hot_test_labels)"
      ],
      "execution_count": 16,
      "outputs": [
        {
          "output_type": "stream",
          "text": [
            "2246/2246 [==============================] - 0s 122us/step\n"
          ],
          "name": "stdout"
        },
        {
          "output_type": "execute_result",
          "data": {
            "text/plain": [
              "[1.157335994292452, 0.7524487972259521]"
            ]
          },
          "metadata": {
            "tags": []
          },
          "execution_count": 16
        }
      ]
    },
    {
      "cell_type": "markdown",
      "metadata": {
        "id": "kzMGYgCezSXL",
        "colab_type": "text"
      },
      "source": [
        "훈련 결과 시각화"
      ]
    },
    {
      "cell_type": "code",
      "metadata": {
        "id": "IB3OAi7n88g4",
        "colab_type": "code",
        "colab": {
          "base_uri": "https://localhost:8080/",
          "height": 314
        },
        "outputId": "d36ed7bf-941f-490d-f00e-e891bfbf068d"
      },
      "source": [
        "acc = history.history['acc']\n",
        "val_acc = history.history['val_acc']\n",
        "loss = history.history['loss']\n",
        "\n",
        "epochs = range(1, len(loss) + 1)\n",
        "\n",
        "plt.plot(epochs, acc, 'bo', label='Training acc')\n",
        "plt.plot(epochs, val_acc, 'b', label='Validation acc')\n",
        "\n",
        "plt.title('Training & Validation Accuracy')\n",
        "plt.xlabel('Epochs')\n",
        "plt.ylabel('Accuracy')\n",
        "plt.legend()"
      ],
      "execution_count": 17,
      "outputs": [
        {
          "output_type": "execute_result",
          "data": {
            "text/plain": [
              "<matplotlib.legend.Legend at 0x7fa69a0f4908>"
            ]
          },
          "metadata": {
            "tags": []
          },
          "execution_count": 17
        },
        {
          "output_type": "display_data",
          "data": {
            "image/png": "[encoded data removed]",
            "text/plain": [
              "<Figure size 432x288 with 1 Axes>"
            ]
          },
          "metadata": {
            "tags": [],
            "needs_background": "light"
          }
        }
      ]
    },
    {
      "cell_type": "code",
      "metadata": {
        "id": "Ll8aQn9K-Hc2",
        "colab_type": "code",
        "colab": {
          "base_uri": "https://localhost:8080/",
          "height": 314
        },
        "outputId": "3a74d5fb-bdd5-4b07-d3ef-6f0894a661ba"
      },
      "source": [
        "loss = history.history['loss']\n",
        "val_loss = history.history['val_loss']\n",
        "\n",
        "epochs = range(1, len(loss) + 1)\n",
        "\n",
        "plt.plot(epochs, loss, 'bo', label='Training loss')\n",
        "plt.plot(epochs, val_loss, 'b', label='Validation loss')\n",
        "\n",
        "plt.title('Training & Validation Loss')\n",
        "plt.xlabel('Epochs')\n",
        "plt.ylabel('Loss')\n",
        "plt.legend()"
      ],
      "execution_count": 18,
      "outputs": [
        {
          "output_type": "execute_result",
          "data": {
            "text/plain": [
              "<matplotlib.legend.Legend at 0x7fa699d77710>"
            ]
          },
          "metadata": {
            "tags": []
          },
          "execution_count": 18
        },
        {
          "output_type": "display_data",
          "data": {
            "image/png": "[encoded data removed]",
            "text/plain": [
              "<Figure size 432x288 with 1 Axes>"
            ]
          },
          "metadata": {
            "tags": [],
            "needs_background": "light"
          }
        }
      ]
    },
    {
      "cell_type": "markdown",
      "metadata": {
        "id": "42excyuWzYzb",
        "colab_type": "text"
      },
      "source": [
        "새로운 데이터 예측"
      ]
    },
    {
      "cell_type": "code",
      "metadata": {
        "id": "afxs6sP8D6Tr",
        "colab_type": "code",
        "colab": {
          "base_uri": "https://localhost:8080/",
          "height": 36
        },
        "outputId": "ca794bc6-485b-4e4f-ac0d-b6c7b720836f"
      },
      "source": [
        "predictions = model.predict(x_test)\n",
        "predictions.shape"
      ],
      "execution_count": 19,
      "outputs": [
        {
          "output_type": "execute_result",
          "data": {
            "text/plain": [
              "(2246, 46)"
            ]
          },
          "metadata": {
            "tags": []
          },
          "execution_count": 19
        }
      ]
    },
    {
      "cell_type": "code",
      "metadata": {
        "id": "CqwRCkyoD6kV",
        "colab_type": "code",
        "colab": {
          "base_uri": "https://localhost:8080/",
          "height": 36
        },
        "outputId": "44734c7f-6013-49d0-9fb0-e7e6fff84440"
      },
      "source": [
        "# predictions[7]의 몇 번째 index가 가장 큰 값\n",
        "# (46개의 뉴스 토픽 중 그 토픽에 해당하는 확률)을 가지는지\n",
        "np.argmax(predictions[7])"
      ],
      "execution_count": 20,
      "outputs": [
        {
          "output_type": "execute_result",
          "data": {
            "text/plain": [
              "3"
            ]
          },
          "metadata": {
            "tags": []
          },
          "execution_count": 20
        }
      ]
    },
    {
      "cell_type": "code",
      "metadata": {
        "id": "bdoBC5Ukg0El",
        "colab_type": "code",
        "colab": {
          "base_uri": "https://localhost:8080/",
          "height": 36
        },
        "outputId": "73c1ddef-563d-4044-e21b-28feaf0bb9ad"
      },
      "source": [
        "# 가장 큰 값을 가진 3번째 index의 확률 출력\n",
        "predictions[7][3]"
      ],
      "execution_count": 21,
      "outputs": [
        {
          "output_type": "execute_result",
          "data": {
            "text/plain": [
              "0.9998826"
            ]
          },
          "metadata": {
            "tags": []
          },
          "execution_count": 21
        }
      ]
    }
  ]
}